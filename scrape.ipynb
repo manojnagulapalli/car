{
 "cells": [
  {
   "cell_type": "code",
   "execution_count": 3,
   "id": "wWkjxzPTvQTc",
   "metadata": {
    "colab": {
     "base_uri": "https://localhost:8080/"
    },
    "executionInfo": {
     "elapsed": 11982,
     "status": "ok",
     "timestamp": 1708486822510,
     "user": {
      "displayName": "Kesava Datta Jasti",
      "userId": "06814456659937352364"
     },
     "user_tz": -330
    },
    "id": "wWkjxzPTvQTc",
    "outputId": "586d0ead-fc76-4763-856a-88cc38229335"
   },
   "outputs": [
    {
     "name": "stdout",
     "output_type": "stream",
     "text": [
      "Requirement already satisfied: selenium in /Library/Frameworks/Python.framework/Versions/3.10/lib/python3.10/site-packages (4.18.1)\n",
      "Requirement already satisfied: urllib3<3,>=1.26 in /Library/Frameworks/Python.framework/Versions/3.10/lib/python3.10/site-packages (from urllib3[socks]<3,>=1.26->selenium) (2.1.0)\n",
      "Requirement already satisfied: trio~=0.17 in /Library/Frameworks/Python.framework/Versions/3.10/lib/python3.10/site-packages (from selenium) (0.24.0)\n",
      "Requirement already satisfied: trio-websocket~=0.9 in /Library/Frameworks/Python.framework/Versions/3.10/lib/python3.10/site-packages (from selenium) (0.11.1)\n",
      "Requirement already satisfied: certifi>=2021.10.8 in /Library/Frameworks/Python.framework/Versions/3.10/lib/python3.10/site-packages (from selenium) (2023.11.17)\n",
      "Requirement already satisfied: typing_extensions>=4.9.0 in /Library/Frameworks/Python.framework/Versions/3.10/lib/python3.10/site-packages (from selenium) (4.9.0)\n",
      "Requirement already satisfied: attrs>=20.1.0 in /Library/Frameworks/Python.framework/Versions/3.10/lib/python3.10/site-packages (from trio~=0.17->selenium) (23.2.0)\n",
      "Requirement already satisfied: sortedcontainers in /Library/Frameworks/Python.framework/Versions/3.10/lib/python3.10/site-packages (from trio~=0.17->selenium) (2.4.0)\n",
      "Requirement already satisfied: idna in /Library/Frameworks/Python.framework/Versions/3.10/lib/python3.10/site-packages (from trio~=0.17->selenium) (3.6)\n",
      "Requirement already satisfied: outcome in /Library/Frameworks/Python.framework/Versions/3.10/lib/python3.10/site-packages (from trio~=0.17->selenium) (1.3.0.post0)\n",
      "Requirement already satisfied: sniffio>=1.3.0 in /Library/Frameworks/Python.framework/Versions/3.10/lib/python3.10/site-packages (from trio~=0.17->selenium) (1.3.1)\n",
      "Requirement already satisfied: exceptiongroup in /Users/manoj/Library/Python/3.10/lib/python/site-packages (from trio~=0.17->selenium) (1.2.0)\n",
      "Requirement already satisfied: wsproto>=0.14 in /Library/Frameworks/Python.framework/Versions/3.10/lib/python3.10/site-packages (from trio-websocket~=0.9->selenium) (1.2.0)\n",
      "Requirement already satisfied: pysocks!=1.5.7,<2.0,>=1.5.6 in /Library/Frameworks/Python.framework/Versions/3.10/lib/python3.10/site-packages (from urllib3[socks]<3,>=1.26->selenium) (1.7.1)\n",
      "Requirement already satisfied: h11<1,>=0.9.0 in /Library/Frameworks/Python.framework/Versions/3.10/lib/python3.10/site-packages (from wsproto>=0.14->trio-websocket~=0.9->selenium) (0.14.0)\n",
      "Note: you may need to restart the kernel to use updated packages.\n"
     ]
    }
   ],
   "source": [
    "pip install selenium"
   ]
  },
  {
   "cell_type": "code",
   "execution_count": 12,
   "id": "058e98a9-42bd-4fc4-a097-0f1226ebfd5d",
   "metadata": {
    "colab": {
     "base_uri": "https://localhost:8080/",
     "height": 668
    },
    "executionInfo": {
     "elapsed": 9348,
     "status": "error",
     "timestamp": 1708486831839,
     "user": {
      "displayName": "Kesava Datta Jasti",
      "userId": "06814456659937352364"
     },
     "user_tz": -330
    },
    "id": "058e98a9-42bd-4fc4-a097-0f1226ebfd5d",
    "outputId": "e2d20394-70a7-4be9-a590-13cfd0a57ed7",
    "scrolled": true
   },
   "outputs": [
    {
     "name": "stdout",
     "output_type": "stream",
     "text": [
      "0\n",
      "1\n",
      "2\n",
      "3\n",
      "4\n"
     ]
    }
   ],
   "source": [
    "from selenium import webdriver\n",
    "from selenium.webdriver.common.by import By\n",
    "from selenium.webdriver.support.ui import WebDriverWait\n",
    "from selenium.webdriver.support import expected_conditions as EC\n",
    "import pandas as pd\n",
    "# Set up the Selenium driver\n",
    "driver = webdriver.Chrome()\n",
    "url = \"https://www.gaadibazaar.in/used-second-hand-cars-in-india\"  # Replace with the actual URL\n",
    "driver.get(url)\n",
    "\n",
    "wait = WebDriverWait(driver, 10)\n",
    "\n",
    "# Function to click the \"Show More Cars\" button\n",
    "def click_show_more_button():\n",
    "    try:\n",
    "        show_more_button = wait.until(EC.element_to_be_clickable((By.XPATH, \"//div[@class='load_more_pagination pointer' and contains(text(), 'Show more cars')]\")))\n",
    "        show_more_button.click()\n",
    "        return True\n",
    "    except:\n",
    "        return False\n",
    "\n",
    "car_data_list = []\n",
    "# Function to extract data from a car listing element\n",
    "def extract_car_data(car_data_element):\n",
    "    car_name = car_data_element.find_element(By.TAG_NAME, \"h2\").text\n",
    "    # car_model = car_data_element.find_element(By.CLASS_NAME, \"flex-row\").find_element(By.CLASS_NAME, \"d-blue\").text\n",
    "    car_model_element = car_data_element.find_element(By.CLASS_NAME, \"flex-row\")\n",
    "    car_model = car_model_element.text.strip()\n",
    "    car_details = car_data_element.find_elements(By.CLASS_NAME, \"medium\")\n",
    "\n",
    "    if len(car_details) >= 4:\n",
    "        car_year = car_details[0].text\n",
    "        car_mileage = car_details[1].text\n",
    "        car_fuel_type = car_details[2].text\n",
    "        car_owner = car_details[3].text\n",
    "    else:\n",
    "        car_year = car_mileage = car_fuel_type = car_owner = \"N/A\"\n",
    "\n",
    "    car_price = car_data_element.find_element(By.CLASS_NAME, \"bold\").text\n",
    "    car_data_list.append([car_name, car_model, car_year, car_mileage, car_fuel_type, car_owner, car_price])\n",
    "\n",
    "    # print(f\"Car Name: {car_name}\")\n",
    "    # print(f\"Car Model: {car_model}\")\n",
    "    # print(f\"Year: {car_year}\")\n",
    "    # print(f\"Mileage: {car_mileage}\")\n",
    "    # print(f\"Fuel Type: {car_fuel_type}\")\n",
    "    # print(f\"Owner: {car_owner}\")\n",
    "    # print(f\"Price: {car_price}\")\n",
    "    # print(\"\\n\")\n",
    "\n",
    "# Initially, extract data from the visible car listings\n",
    "car_data_elements = driver.find_elements(By.CLASS_NAME, \"card-list\")\n",
    "for car_data_element in car_data_elements:\n",
    "    extract_car_data(car_data_element)\n",
    "\n",
    "# Click the \"Show More Cars\" button up to 10 times\n",
    "click_count = 0\n",
    "while click_count <= 30:\n",
    "    print(click_count)\n",
    "    if not click_show_more_button():\n",
    "        break  # If the button is not available, exit the loop\n",
    "    click_count += 1\n",
    "    # Wait for new data to load\n",
    "    wait.until(EC.presence_of_element_located((By.CLASS_NAME, \"card-list\")))\n",
    "\n",
    "    # Extract data from the newly loaded car listings\n",
    "    car_data_elements = driver.find_elements(By.CLASS_NAME, \"card-list\")\n",
    "    for car_data_element in car_data_elements:\n",
    "        extract_car_data(car_data_element)\n",
    "\n",
    "# Close the browser\n",
    "driver.quit()\n",
    "# Create a DataFrame from the list\n",
    "df = pd.DataFrame(car_data_list, columns=[\"Car Name\", \"Car Model\", \"Year\", \"Mileage\", \"Fuel Type\", \"Owner\", \"Price\"])"
   ]
  },
  {
   "cell_type": "code",
   "execution_count": 13,
   "id": "47a4e38e-b6c0-448e-a43e-2122f7c3e2fb",
   "metadata": {
    "id": "47a4e38e-b6c0-448e-a43e-2122f7c3e2fb",
    "outputId": "1af42bff-1354-447a-dd93-dc2905edbb11"
   },
   "outputs": [
    {
     "data": {
      "text/html": [
       "<div>\n",
       "<style scoped>\n",
       "    .dataframe tbody tr th:only-of-type {\n",
       "        vertical-align: middle;\n",
       "    }\n",
       "\n",
       "    .dataframe tbody tr th {\n",
       "        vertical-align: top;\n",
       "    }\n",
       "\n",
       "    .dataframe thead th {\n",
       "        text-align: right;\n",
       "    }\n",
       "</style>\n",
       "<table border=\"1\" class=\"dataframe\">\n",
       "  <thead>\n",
       "    <tr style=\"text-align: right;\">\n",
       "      <th></th>\n",
       "      <th>Car Name</th>\n",
       "      <th>Car Model</th>\n",
       "      <th>Year</th>\n",
       "      <th>Mileage</th>\n",
       "      <th>Fuel Type</th>\n",
       "      <th>Owner</th>\n",
       "      <th>Price</th>\n",
       "    </tr>\n",
       "  </thead>\n",
       "  <tbody>\n",
       "    <tr>\n",
       "      <th>0</th>\n",
       "      <td>HYUNDAI CRETA</td>\n",
       "      <td>1.6 SX PLUS PETROL</td>\n",
       "      <td>2018</td>\n",
       "      <td>9000</td>\n",
       "      <td>Petrol</td>\n",
       "      <td>1st Owner</td>\n",
       "      <td>₹9L</td>\n",
       "    </tr>\n",
       "    <tr>\n",
       "      <th>1</th>\n",
       "      <td>MAHINDRA XUV500</td>\n",
       "      <td>W6</td>\n",
       "      <td>2014</td>\n",
       "      <td>81000</td>\n",
       "      <td>Diesel</td>\n",
       "      <td>1st Owner</td>\n",
       "      <td>₹5.8L</td>\n",
       "    </tr>\n",
       "    <tr>\n",
       "      <th>2</th>\n",
       "      <td>MARUTI SUZUKI ALTO</td>\n",
       "      <td>STD BS III</td>\n",
       "      <td>2006</td>\n",
       "      <td>80000</td>\n",
       "      <td>Petrol</td>\n",
       "      <td>1st Owner</td>\n",
       "      <td>₹1.9L</td>\n",
       "    </tr>\n",
       "    <tr>\n",
       "      <th>3</th>\n",
       "      <td>TOYOTA Corolla Altis</td>\n",
       "      <td>1.8 VL</td>\n",
       "      <td>2012</td>\n",
       "      <td>28500</td>\n",
       "      <td>Petrol</td>\n",
       "      <td>2nd Owner</td>\n",
       "      <td>₹3.5L</td>\n",
       "    </tr>\n",
       "    <tr>\n",
       "      <th>4</th>\n",
       "      <td>MARUTI SUZUKI WAGON R</td>\n",
       "      <td>LXI</td>\n",
       "      <td>2017</td>\n",
       "      <td>25000</td>\n",
       "      <td>Petrol</td>\n",
       "      <td>1st Owner</td>\n",
       "      <td>₹3.5L</td>\n",
       "    </tr>\n",
       "  </tbody>\n",
       "</table>\n",
       "</div>"
      ],
      "text/plain": [
       "                Car Name           Car Model  Year Mileage Fuel Type  \\\n",
       "0          HYUNDAI CRETA  1.6 SX PLUS PETROL  2018    9000    Petrol   \n",
       "1        MAHINDRA XUV500                  W6  2014   81000    Diesel   \n",
       "2     MARUTI SUZUKI ALTO          STD BS III  2006   80000    Petrol   \n",
       "3   TOYOTA Corolla Altis              1.8 VL  2012   28500    Petrol   \n",
       "4  MARUTI SUZUKI WAGON R                 LXI  2017   25000    Petrol   \n",
       "\n",
       "       Owner  Price  \n",
       "0  1st Owner    ₹9L  \n",
       "1  1st Owner  ₹5.8L  \n",
       "2  1st Owner  ₹1.9L  \n",
       "3  2nd Owner  ₹3.5L  \n",
       "4  1st Owner  ₹3.5L  "
      ]
     },
     "execution_count": 13,
     "metadata": {},
     "output_type": "execute_result"
    }
   ],
   "source": [
    "df.to_csv('gaadi.csv')\n",
    "df.head()"
   ]
  },
  {
   "cell_type": "code",
   "execution_count": 14,
   "id": "fd324802-6ab1-45ca-9aea-d7642b11c925",
   "metadata": {
    "id": "fd324802-6ab1-45ca-9aea-d7642b11c925",
    "outputId": "eb9aa2a6-fdb0-4c76-b377-a040608cc3b5"
   },
   "outputs": [
    {
     "data": {
      "text/plain": [
       "((231, 7),\n",
       " Car Name     0\n",
       " Car Model    0\n",
       " Year         0\n",
       " Mileage      0\n",
       " Fuel Type    0\n",
       " Owner        0\n",
       " Price        0\n",
       " dtype: int64)"
      ]
     },
     "execution_count": 14,
     "metadata": {},
     "output_type": "execute_result"
    }
   ],
   "source": [
    "df.shape,df.isnull().sum()"
   ]
  },
  {
   "cell_type": "code",
   "execution_count": null,
   "id": "7fca48a4",
   "metadata": {},
   "outputs": [],
   "source": []
  }
 ],
 "metadata": {
  "colab": {
   "provenance": []
  },
  "kernelspec": {
   "display_name": "Python 3 (ipykernel)",
   "language": "python",
   "name": "python3"
  },
  "language_info": {
   "codemirror_mode": {
    "name": "ipython",
    "version": 3
   },
   "file_extension": ".py",
   "mimetype": "text/x-python",
   "name": "python",
   "nbconvert_exporter": "python",
   "pygments_lexer": "ipython3",
   "version": "3.10.7"
  }
 },
 "nbformat": 4,
 "nbformat_minor": 5
}
